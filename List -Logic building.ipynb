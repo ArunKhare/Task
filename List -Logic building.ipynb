{
 "cells": [
  {
   "cell_type": "code",
   "execution_count": null,
   "id": "2da2caf2",
   "metadata": {},
   "outputs": [],
   "source": [
    "# PROGRAM 1\n",
    "'''Write a program to accept 2 lists from the user of 5 nos each . \n",
    "    Assume each list will have unique nos Now find out how many items in these lists are common'''\n",
    "\n",
    "list1=[]\n",
    "list2=[]\n",
    "\n",
    "for i in range(0,5):\n",
    "    list1.append((input(\"enter item in list1 : \")))\n",
    "    \n",
    "for i in range(0,5):\n",
    "    list2.append((input(\"enter item in list2 : \")))\n",
    "    \n",
    "\n",
    "print (f'list1 {list1}, list2 {list2}')\n",
    "# how many items are common5\n",
    "\n",
    "uniquelist1= set(list1)\n",
    "count=0\n",
    "for item in list2:\n",
    "    for uitem in uniquelist1:\n",
    "        if item==uitem:\n",
    "            count+=1\n",
    "print(f'Total common items in list1 and list2 are : {count}' )"
   ]
  },
  {
   "cell_type": "code",
   "execution_count": null,
   "id": "a078bd89",
   "metadata": {},
   "outputs": [],
   "source": [
    "#PROGRAM 2\n",
    "'''Write a program to accept 5 unique integers from the user. \n",
    "    Make sure if the integer being entered is already present in the list your code displays the message \n",
    "    “Item already present” and ask the user to reenter the integer. '''\n",
    "\n",
    "list1 = []\n",
    "while True:\n",
    "    if len(list1)<=4:\n",
    "        try:\n",
    "            a= int(input(\"Enter a Item; An integer : \"))\n",
    "            while True:\n",
    "                try:\n",
    "                    if a not in list1:\n",
    "                        list1.append(a)\n",
    "                        break\n",
    "                    else:\n",
    "                        raise Exception(\"Item already present\")\n",
    "                except Exception as e:\n",
    "                    print (e)\n",
    "                    a= int(input(\"Once Again - Enter a Item; An integer : \"))\n",
    "            \n",
    "        except ValueError:\n",
    "            print(\"Value not accepted; Pl enter only Integer : \")\n",
    "    else:\n",
    "        break\n",
    "            "
   ]
  }
 ],
 "metadata": {
  "kernelspec": {
   "display_name": "Python 3 (ipykernel)",
   "language": "python",
   "name": "python3"
  },
  "language_info": {
   "codemirror_mode": {
    "name": "ipython",
    "version": 3
   },
   "file_extension": ".py",
   "mimetype": "text/x-python",
   "name": "python",
   "nbconvert_exporter": "python",
   "pygments_lexer": "ipython3",
   "version": "3.9.7"
  }
 },
 "nbformat": 4,
 "nbformat_minor": 5
}
